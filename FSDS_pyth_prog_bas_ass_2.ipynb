{
 "cells": [
  {
   "cell_type": "markdown",
   "id": "ed2c4c62",
   "metadata": {},
   "source": [
    "### Write a Python program to convert kilometers to miles?"
   ]
  },
  {
   "cell_type": "code",
   "execution_count": 2,
   "id": "bdb2db95",
   "metadata": {},
   "outputs": [
    {
     "data": {
      "text/plain": [
       "3.107520198881293"
      ]
     },
     "execution_count": 2,
     "metadata": {},
     "output_type": "execute_result"
    }
   ],
   "source": [
    "kms = 5\n",
    "milles = kms / 1.609\n",
    "milles"
   ]
  },
  {
   "cell_type": "markdown",
   "id": "19ad4fd8",
   "metadata": {},
   "source": [
    "### Write a Python program to convert Celsius to Fahrenheit?"
   ]
  },
  {
   "cell_type": "code",
   "execution_count": 4,
   "id": "da2d4ad1",
   "metadata": {},
   "outputs": [
    {
     "data": {
      "text/plain": [
       "212.0"
      ]
     },
     "execution_count": 4,
     "metadata": {},
     "output_type": "execute_result"
    }
   ],
   "source": [
    "celsius = 100\n",
    "farhenheit = (celsius * 1.8)+32\n",
    "farhenheit"
   ]
  },
  {
   "cell_type": "markdown",
   "id": "87c4d381",
   "metadata": {},
   "source": [
    "### Write a Python program to display calendar?"
   ]
  },
  {
   "cell_type": "code",
   "execution_count": 19,
   "id": "f5239eca",
   "metadata": {},
   "outputs": [
    {
     "data": {
      "text/plain": [
       "'   February 2022\\nMo Tu We Th Fr Sa Su\\n    1  2  3  4  5  6\\n 7  8  9 10 11 12 13\\n14 15 16 17 18 19 20\\n21 22 23 24 25 26 27\\n28\\n'"
      ]
     },
     "execution_count": 19,
     "metadata": {},
     "output_type": "execute_result"
    }
   ],
   "source": [
    "import calendar as cal\n",
    "cal = cal.month(2022,2)\n"
   ]
  },
  {
   "cell_type": "markdown",
   "id": "fe31e55e",
   "metadata": {},
   "source": [
    "### Write a Python program to solve quadratic equation?"
   ]
  },
  {
   "cell_type": "code",
   "execution_count": 20,
   "id": "f51dfe7c",
   "metadata": {},
   "outputs": [
    {
     "name": "stdout",
     "output_type": "stream",
     "text": [
      "Enter a: 1\n",
      "Enter b: 2\n",
      "Enter c: 1\n",
      "The solution are (-1+0j) and (-1+0j)\n"
     ]
    }
   ],
   "source": [
    "import cmath  \n",
    "a = float(input('Enter a: '))  \n",
    "b = float(input('Enter b: '))  \n",
    "c = float(input('Enter c: '))  \n",
    "\n",
    "d = (b**2) - (4*a*c)  \n",
    "  \n",
    "# find two solutions  \n",
    "sol1 = (-b-cmath.sqrt(d))/(2*a)  \n",
    "sol2 = (-b+cmath.sqrt(d))/(2*a)  \n",
    "print('The solution are {0} and {1}'.format(sol1,sol2))"
   ]
  },
  {
   "cell_type": "markdown",
   "id": "f90f0d81",
   "metadata": {},
   "source": [
    "### Write a Python program to swap two variables without temp variable?"
   ]
  },
  {
   "cell_type": "code",
   "execution_count": 21,
   "id": "0d8a1e2a",
   "metadata": {},
   "outputs": [
    {
     "data": {
      "text/plain": [
       "(6, 5)"
      ]
     },
     "execution_count": 21,
     "metadata": {},
     "output_type": "execute_result"
    }
   ],
   "source": [
    "a=5\n",
    "b=6\n",
    "a = a+b\n",
    "b = a-b\n",
    "a = a-b\n",
    "a,b"
   ]
  },
  {
   "cell_type": "code",
   "execution_count": null,
   "id": "f256f5a1",
   "metadata": {},
   "outputs": [],
   "source": []
  }
 ],
 "metadata": {
  "kernelspec": {
   "display_name": "Python 3 (ipykernel)",
   "language": "python",
   "name": "python3"
  },
  "language_info": {
   "codemirror_mode": {
    "name": "ipython",
    "version": 3
   },
   "file_extension": ".py",
   "mimetype": "text/x-python",
   "name": "python",
   "nbconvert_exporter": "python",
   "pygments_lexer": "ipython3",
   "version": "3.9.7"
  }
 },
 "nbformat": 4,
 "nbformat_minor": 5
}
