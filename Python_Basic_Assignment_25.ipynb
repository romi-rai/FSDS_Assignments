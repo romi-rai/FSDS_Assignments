{
 "cells": [
  {
   "cell_type": "markdown",
   "id": "2f86a5a9",
   "metadata": {},
   "source": [
    "### What is the difference between enclosing a list comprehension in square brackets and parentheses?\n",
    "\n",
    "Answer :\n",
    "    \n",
    "    list comprehension in square bracket is list\n",
    "    whereas list comprehension in round bracket is tuples\n",
    "    List is mutable but Tuples are immutable\n",
    "\n"
   ]
  },
  {
   "cell_type": "markdown",
   "id": "0bd7a2d8",
   "metadata": {},
   "source": [
    "### What is the relationship between generators and iterators?\n",
    "\n",
    "\n",
    "Answer :\n",
    "    \n",
    "    An iterator is an object which contains a countable number of values and it is used to iterate over iterable objects like list, tuples, sets, etc. Iterators are implemented using a class and a local variable for iterating is not required here, It follows lazy evaluation where the evaluation of the expression will be on hold and stored in the memory until the item is called specifically which helps us to avoid repeated evaluation. As lazy evaluation is implemented, it requires only 1 memory location to process the value and when we are using a large dataset then, wastage of RAM space will be reduced the need to load the entire dataset at the same time will not be there.\n",
    "\n",
    "\n"
   ]
  },
  {
   "cell_type": "code",
   "execution_count": 2,
   "id": "ead08da2",
   "metadata": {},
   "outputs": [
    {
     "name": "stdout",
     "output_type": "stream",
     "text": [
      "assignment\n",
      "For\n",
      "FSDS\n"
     ]
    }
   ],
   "source": [
    "iter_list = iter(['assignment', 'For', 'FSDS'])\n",
    "print(next(iter_list))\n",
    "print(next(iter_list))\n",
    "print(next(iter_list))"
   ]
  },
  {
   "cell_type": "markdown",
   "id": "e1a30132",
   "metadata": {},
   "source": [
    "Generators\n",
    "\n",
    "It is another way of creating iterators in a simple way where it uses the keyword “yield” instead of returning it in a defined function. Generators are implemented using a function.\n",
    "It will return a sequence of data in an iterable format where we need to iterate over the sequence to use the data as they won’t store the entire sequence in the memory.\n"
   ]
  },
  {
   "cell_type": "code",
   "execution_count": 3,
   "id": "54420c71",
   "metadata": {},
   "outputs": [],
   "source": [
    "def sq_numbers(n):\n",
    "    for i in range(1, n+1):\n",
    "        yield i*i\n",
    "  \n",
    "  \n",
    "a = sq_numbers(3)"
   ]
  },
  {
   "cell_type": "code",
   "execution_count": 4,
   "id": "e3582665",
   "metadata": {},
   "outputs": [
    {
     "name": "stdout",
     "output_type": "stream",
     "text": [
      "1\n"
     ]
    }
   ],
   "source": [
    "print(next(a))"
   ]
  },
  {
   "cell_type": "code",
   "execution_count": 5,
   "id": "830785b8",
   "metadata": {},
   "outputs": [
    {
     "name": "stdout",
     "output_type": "stream",
     "text": [
      "4\n"
     ]
    }
   ],
   "source": [
    "print(next(a))"
   ]
  },
  {
   "cell_type": "code",
   "execution_count": 6,
   "id": "e38d99ea",
   "metadata": {},
   "outputs": [
    {
     "name": "stdout",
     "output_type": "stream",
     "text": [
      "9\n"
     ]
    }
   ],
   "source": [
    "print(next(a))"
   ]
  },
  {
   "cell_type": "markdown",
   "id": "636dfa3b",
   "metadata": {},
   "source": [
    "### What are the signs that a function is a generator function?\n",
    "\n",
    "Function must be using yield keyword which gives output as an iterator that is one by one."
   ]
  },
  {
   "cell_type": "markdown",
   "id": "67298b7a",
   "metadata": {},
   "source": [
    "### What is the purpose of a yield statement?\n",
    "\n",
    "yield in Python can be used like the return statement in a function. When done so, the function instead\n",
    "of returning the output, it returns a generator that can be iterated upon. You can then iterate through\n",
    "the generator to extract items."
   ]
  },
  {
   "cell_type": "markdown",
   "id": "c0b37dc5",
   "metadata": {},
   "source": [
    "### What is the relationship between map calls and list comprehensions?\n",
    "\n",
    "\n",
    "Suppose we have a function and we want to compute this function for different values in a single line of code . This is where map() function plays its role\n",
    "For Example:"
   ]
  },
  {
   "cell_type": "code",
   "execution_count": 10,
   "id": "5e864c81",
   "metadata": {},
   "outputs": [
    {
     "name": "stdout",
     "output_type": "stream",
     "text": [
      "<map object at 0x000001C978E31CA0>\n",
      "[4, 88, 11.0, 12, -14]\n"
     ]
    }
   ],
   "source": [
    "def num (n) :\n",
    "    return n * 2\n",
    "          \n",
    "lst = [2, 44, 5.5, 6, -7]\n",
    "x = map(num, lst) \n",
    "print(x) \n",
    "  \n",
    "print(list(x))  "
   ]
  },
  {
   "cell_type": "code",
   "execution_count": 12,
   "id": "4a0143d0",
   "metadata": {},
   "outputs": [
    {
     "data": {
      "text/plain": [
       "'C:\\\\Users\\\\User'"
      ]
     },
     "execution_count": 12,
     "metadata": {},
     "output_type": "execute_result"
    }
   ],
   "source": [
    "pwd"
   ]
  },
  {
   "cell_type": "markdown",
   "id": "cbec27bf",
   "metadata": {},
   "source": [
    "List Comprehension is a substitute for the lambda function, map(), filter() and reduce(). It follows the form of the mathematical set-builder notation. It provide a concise way to create lists.\n",
    "For Example :"
   ]
  },
  {
   "cell_type": "code",
   "execution_count": 11,
   "id": "d4579594",
   "metadata": {},
   "outputs": [
    {
     "name": "stdout",
     "output_type": "stream",
     "text": [
      "[4, 88, 11.0, 12, -14]\n"
     ]
    }
   ],
   "source": [
    "lst = [2, 44, 5.5, 6, -7]\n",
    "\n",
    "x = [i * 2 for i in lst ] \n",
    "print(x)"
   ]
  },
  {
   "cell_type": "markdown",
   "id": "0e7c6d2d",
   "metadata": {},
   "source": [
    "Map VS List Comprehension\n",
    "\n",
    "List comprehension is more concise and easier to read as compared to map.\n",
    "\n",
    "List comprehension allows filtering. In map, we have no such facility. For example, to print all even numbers in range of 100, we can write [n for n in range(100) if n%2 == 0]. There is no alternate for it in map\n",
    "\n",
    "List comprehension are used when a list of results is required as map only returns a map object and does not return any list.\n",
    "\n",
    "List comprehension is faster than map when we need to evaluate expressions that are too long or complicated to express\n"
   ]
  }
 ],
 "metadata": {
  "kernelspec": {
   "display_name": "Python 3 (ipykernel)",
   "language": "python",
   "name": "python3"
  },
  "language_info": {
   "codemirror_mode": {
    "name": "ipython",
    "version": 3
   },
   "file_extension": ".py",
   "mimetype": "text/x-python",
   "name": "python",
   "nbconvert_exporter": "python",
   "pygments_lexer": "ipython3",
   "version": "3.9.7"
  }
 },
 "nbformat": 4,
 "nbformat_minor": 5
}
